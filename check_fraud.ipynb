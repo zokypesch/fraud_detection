{
 "cells": [
  {
   "cell_type": "code",
   "execution_count": 2,
   "id": "90179469-e29f-442f-b95f-49e8416cfd94",
   "metadata": {},
   "outputs": [],
   "source": [
    "import tensorflow as tf\n",
    "from PIL import Image\n",
    "import numpy as np\n",
    "from skimage import transform\n",
    "\n",
    "train_id = \"./\"\n",
    "best_filepath = \"fraud_model.keras\"\n",
    "\n",
    "new_model = tf.keras.models.load_model(f'{train_id}/{best_filepath}')"
   ]
  },
  {
   "cell_type": "code",
   "execution_count": 6,
   "id": "ce4de26a-68ba-463c-8aeb-59c7601cb173",
   "metadata": {},
   "outputs": [],
   "source": [
    "def load_image(filename):\n",
    "   np_image = Image.open(filename)\n",
    "   np_image = np.array(np_image).astype('float32')/255\n",
    "   np_image = transform.resize(np_image, (224, 224, 3))\n",
    "   np_image = np.expand_dims(np_image, axis=0)\n",
    "   return np_image\n",
    "\n",
    "def check_fraud(url_file, threshold):\n",
    "    img_testing = load_image(url_file)\n",
    "    y_prob = new_model.predict(img_testing, verbose=0)\n",
    "    y_pred_value = np.squeeze(y_prob)\n",
    "    y_pred = np.zeros(y_pred_value.shape).astype(np.int32)\n",
    "    y_pred[y_pred_value > threshold] = 1\n",
    "    return y_pred, y_pred_value"
   ]
  },
  {
   "cell_type": "code",
   "execution_count": 67,
   "id": "1d55951f-a5b7-473c-bd62-29db96549c0d",
   "metadata": {},
   "outputs": [
    {
     "name": "stdout",
     "output_type": "stream",
     "text": [
      "0 0.38589767\n"
     ]
    }
   ],
   "source": [
    "# folder_root = \"../fraud_data_set\"\n",
    "folder_root = \"../fraud_data_set/prakerja/train/spoof\"\n",
    "file_test = \"3U2TE98HAE7S.jpeg\"\n",
    "is_fraud, score = check_fraud(f\"{folder_root}/{file_test}\", 0.8)\n",
    "print(is_fraud, score)"
   ]
  },
  {
   "cell_type": "code",
   "execution_count": null,
   "id": "283a8853-1b83-4ce1-be6a-908502fbb270",
   "metadata": {},
   "outputs": [],
   "source": []
  }
 ],
 "metadata": {
  "kernelspec": {
   "display_name": "Python 3 (ipykernel)",
   "language": "python",
   "name": "python3"
  },
  "language_info": {
   "codemirror_mode": {
    "name": "ipython",
    "version": 3
   },
   "file_extension": ".py",
   "mimetype": "text/x-python",
   "name": "python",
   "nbconvert_exporter": "python",
   "pygments_lexer": "ipython3",
   "version": "3.11.8"
  }
 },
 "nbformat": 4,
 "nbformat_minor": 5
}
